{
 "cells": [
  {
   "cell_type": "code",
   "execution_count": 2,
   "metadata": {},
   "outputs": [
    {
     "name": "stdout",
     "output_type": "stream",
     "text": [
      "2.0.3\n",
      "60\n"
     ]
    }
   ],
   "source": [
    "import pandas as pd\n",
    "import numpy as np\n",
    "print(pd.__version__)\n",
    "print(pd.options.display.max_rows)\n",
    "pd.set_option(\"display.max_columns\", None)  # print all columns of a dataframe; we can replace \"None\" by any number if we want to print a certain number of columns\n",
    "pd.set_option(\"max_colwidth\", None)   # Set the Column Width.\n",
    "pd.set_option(\"display.max_rows\", 100) "
   ]
  },
  {
   "cell_type": "code",
   "execution_count": null,
   "metadata": {},
   "outputs": [],
   "source": [
    "#################  Size of the Original Sales files  ################# \n",
    "# Total: 830400 rows × 569 columns\n",
    "# Germany: 330955 rows × 569 columns\n",
    "# United kingdom: 260410 rows × 569 columns\n",
    "# France: 239035 rows × 569 columns"
   ]
  },
  {
   "cell_type": "markdown",
   "metadata": {},
   "source": [
    "# Combine datasets in 3 countries"
   ]
  },
  {
   "cell_type": "code",
   "execution_count": null,
   "metadata": {},
   "outputs": [],
   "source": [
    "### Load single sales data ###\n",
    "# Mac\n",
    "df_uk_sales = pd.read_csv('/Users/simon/Library/CloudStorage/OneDrive-UniversityCollegeLondon/Cars data/data/raw data/sales/2024_enhanced_uk.csv', encoding='unicode_escape',  engine='python', sep=None,  quoting=3, on_bad_lines='skip')\n",
    "df_fr_sales = pd.read_csv('/Users/simon/Library/CloudStorage/OneDrive-UniversityCollegeLondon/Cars data/data/raw data/sales/2024_enhanced_fr.csv', encoding='unicode_escape',  engine='python', sep=None,  quoting=3, on_bad_lines='skip')\n",
    "df_ge_sales = pd.read_csv('/Users/simon/Library/CloudStorage/OneDrive-UniversityCollegeLondon/Cars data/data/raw data/sales/2024_enhanced_ge.csv', encoding='unicode_escape',  engine='python')\n",
    "\n",
    "# rename the columns 'Country/Territory-Name' or 'ï»¿c' to 'country'\n",
    "df_uk_sales.rename(columns={'Country/Territory-Name':'country'}, inplace=True)\n",
    "df_fr_sales.rename(columns={'Country/Territory-Name':'country'}, inplace=True)\n",
    "df_ge_sales.rename(columns={'ï»¿c':'country'}, inplace=True)\n",
    "\n",
    "# concatenate the three dataframes horizontally\n",
    "df = pd.concat([df_uk_sales, df_fr_sales, df_ge_sales],axis=0, ignore_index=True)"
   ]
  },
  {
   "cell_type": "markdown",
   "metadata": {},
   "source": [
    "# Delete rows with zero sales in year 2015-2023"
   ]
  },
  {
   "cell_type": "code",
   "execution_count": null,
   "metadata": {},
   "outputs": [],
   "source": [
    "# drop rows with no sales in years 2015 to 2023\n",
    "df = df[ (df.loc[:,'2015/01':'2023/12']!=0).any(axis=1) ]  \n",
    "# drop columns '1981/01' to '2014/12' and '2024/01' to '2024/06':\n",
    "df = df.drop(df.loc[:, '1981/01':'2014/12'].columns, axis = 1)\n",
    "df = df.drop(df.loc[:, '2024/01':'2024/06'].columns, axis = 1)"
   ]
  },
  {
   "cell_type": "markdown",
   "metadata": {},
   "source": [
    "# Aggregate monthly sales to annual sales"
   ]
  },
  {
   "cell_type": "code",
   "execution_count": null,
   "metadata": {},
   "outputs": [],
   "source": [
    "# aggregate from monthly sales to annuals sales\n",
    "for year in range(2015, 2024):\n",
    "    month_columns = [f\"{year}/{month:02d}\" for month in range(1, 13)]  # this create a list of column names for the 12 months of the year, useful skill!\n",
    "    df[str(year)] = df[month_columns].sum(axis=1, skipna=True)         # Sum the monthly values for each year, handling missing columns\n",
    "df.drop(columns=df.filter(like='/'), inplace=True)                     # Drop the original monthly columns        # columns=df_s.filter(like='/') pick the columns that contain '/', useful skill!"
   ]
  },
  {
   "cell_type": "code",
   "execution_count": null,
   "metadata": {},
   "outputs": [],
   "source": [
    "### Save to a csv file\n",
    "df.to_csv('/Users/simon/Library/CloudStorage/OneDrive-UniversityCollegeLondon/Cars data/data/processed data/sales/2015_2023_sales_all.csv', index=False) "
   ]
  },
  {
   "cell_type": "markdown",
   "metadata": {},
   "source": [
    "# Aggregate duplicates (too granular, not needed anymore!!)"
   ]
  },
  {
   "cell_type": "code",
   "execution_count": null,
   "metadata": {},
   "outputs": [],
   "source": [
    "### Show the number of sales in each year before aggregate duplicates\n",
    "#df['2019'].sum()   # 8,126,958\n",
    "#df['2020'].sum()   # 6,195,737\n",
    "#df['2021'].sum()   # 5,924,511\n",
    "#df['2022'].sum()   # 5,793,956\n",
    "#df['2023'].sum()   # 6,519,213\n",
    "\n",
    "# show the number of sales in 2023 for each country\n",
    "#df[df['country']== 'Germany']['2023'].sum()   # 2,844,609\n",
    "#df[df['country']== 'United Kingdom']['2023'].sum()   # 1,903,054\n",
    "#df[df['country']== 'France']['2023'].sum()   # 1,771,550\n",
    "\n",
    "\n",
    "# check the column types of df\n",
    "df.dtypes\n",
    "\n",
    "# remove the empty space at the beginning and the end of the string\n",
    "df['Price. (local)'] = df['Price. (local)'].str.strip() \n",
    "df['Price. (EUR)'] = df['Price. (EUR)'].str.strip()\n",
    "\n",
    "# for column 'Price. (local)', 'Price. (EUR), replace 'Unspecified' with NaN\n",
    "df['Price. (local)'] = df['Price. (local)'].replace('Unspecified', np.nan)\n",
    "df['Price. (EUR)'] = df['Price. (EUR)'].replace('Unspecified', np.nan)\n",
    "\n",
    "# change the column 'Price. (local)' to float\n",
    "df['Price. (local)'] = df['Price. (local)'].astype(float)\n",
    "df['Price. (EUR)'] = df['Price. (EUR)'].astype(float)\n",
    "\n",
    "\n",
    "### check for potential duplicates\n",
    "\n",
    "# create the list of column for grouping\n",
    "df_select = df.drop(df.loc[:, 'Price. (local)' : '2023'].columns, axis = 1)  \n",
    "df['duplicate'] = df_select.groupby(df_select.columns.tolist(), dropna=False).transform('size')     # option: grouped by selected columns: list(df_select.columns[1:])\n",
    "df_sort = df.sort_values(by = ['duplicate'] + df_select.columns.tolist(), ascending = [False] + [True]*(len(df_select.columns)))  # sort by 'duplicate_count' in descending order\n",
    "\n",
    "# observation: the same car model with different(updated) prices are treated as different observations\n",
    "\n",
    "\n",
    "# aggregate the duplicates\n",
    "select_columns = df.columns[df.columns.get_loc('country'):df.columns.get_loc('Wheelbase')+1]    # good way to select columns\n",
    "df_agg = df.groupby(select_columns.tolist(), dropna=False).agg({'Price. (local)': 'mean', 'Price. (EUR)': 'mean', '2015':'sum', '2016':'sum', '2017':'sum', '2018':'sum', '2019':'sum', '2020':'sum', '2021':'sum', '2022':'sum', '2023':'sum'})\n",
    "df_agg = df_agg.reset_index() \n",
    "\n",
    "# aggregate the duplicates without grouping by 'country'\n",
    "select_columns = df.columns[df.columns.get_loc('Make Group'):df.columns.get_loc('Wheelbase')+1]\n",
    "df_agg = df.groupby(select_columns.tolist(), dropna=False).agg({'Price. (local)': 'mean', 'Price. (EUR)': 'mean', '2015':'sum', '2016':'sum', '2017':'sum', '2018':'sum', '2019':'sum', '2020':'sum', '2021':'sum', '2022':'sum', '2023':'sum'})\n",
    "df_agg = df_agg.reset_index() "
   ]
  },
  {
   "cell_type": "markdown",
   "metadata": {},
   "source": [
    "# Aggregate the rows by: Parent-Brand-Body type-Fuel type."
   ]
  },
  {
   "cell_type": "code",
   "execution_count": 45,
   "metadata": {},
   "outputs": [],
   "source": [
    "# Mac\n",
    "df = pd.read_csv('/Users/simon/Library/CloudStorage/OneDrive-UniversityCollegeLondon/Cars data/data/processed data/sales/2015_2023_sales_all.csv', low_memory=False)\n",
    "# Windows\n",
    "#df = pd.read_csv('C:/Users/uctpql0/OneDrive - University College London/Cars data/data/processed data/sales/2015_2023_sales_all.csv', encoding='unicode_escape',  engine='python', sep=None,  quoting=3, on_bad_lines='skip')"
   ]
  },
  {
   "cell_type": "code",
   "execution_count": 49,
   "metadata": {},
   "outputs": [],
   "source": [
    "### Miscellaneous\n",
    "# Rename Columns\n",
    "df.columns = df.columns.str.lower() \n",
    "df = df.rename(columns={'price. (local)': 'price_local'})     \n",
    "df = df.rename(columns={'price. (eur)': 'price_eur'})          \n",
    "df = df.rename(columns={'gross vehicle weight ': 'weight'})\n",
    "df = df.rename(columns={'engine (ccm)': 'power'})\n",
    "df = df.rename(columns={'engine (hp)': 'horsepower'})\n",
    "df = df.rename(columns={'make group': 'parent'})\n",
    "df = df.rename(columns={'make': 'brand'})\n",
    "# Change the data type of columns\n",
    "df = df[df['price_eur']!='Unspecified'] # drop rows with 'Unspecified' in 'price_eur'.   This reduce the unique parent number from 68 to 49!\n",
    "df['price_local'] = df['price_local'].astype(int)  \n",
    "df['price_eur'] = df['price_eur'].astype(int)"
   ]
  },
  {
   "cell_type": "code",
   "execution_count": 50,
   "metadata": {},
   "outputs": [],
   "source": [
    "### 1. aggregate body group into 5 classes: Car(Coupe, Sedan, Hatchback), SUV, Wagon, MPV, Convertible \n",
    "# rename values in 'body group' such that 'Sedan', 'Coupe', 'Hatchback' are classified as 'Car', the rest stay the same\n",
    "df['body group'] = df['body group'].str.lower()\n",
    "df['body group'] = df['body group'].str.rstrip()\n",
    "df['body group'] = df['body group'].str.lstrip()\n",
    "df['body group'] = df['body group'].replace({'sedan': 'car', 'coupe': 'car', 'hatchback': 'car'})"
   ]
  },
  {
   "cell_type": "code",
   "execution_count": 51,
   "metadata": {},
   "outputs": [],
   "source": [
    "### 2. aggregate fuel type into 4 classes: (BEV)pure electric, PHEV(plug-in electric), Hybrid, ICE\n",
    "# rename values in ''fuel type'\n",
    "df['fuel type'] = df['fuel type'].str.lower()\n",
    "df['fuel type'] = df['fuel type'].str.rstrip()\n",
    "df['fuel type'] = df['fuel type'].str.lstrip()\n",
    "# Internal combustion engine (ICE)\n",
    "df['fuel type'] = df['fuel type'].replace('diesel','ice')\n",
    "df['fuel type'] = df['fuel type'].replace('petrol','ice')\n",
    "# Hybrid\n",
    "df['fuel type'] = df['fuel type'].replace('hev/petr','hybrid')\n",
    "df['fuel type'] = df['fuel type'].replace('hev/dsl','hybrid')\n",
    "df['fuel type'] = df['fuel type'].replace('mev/petrol','hybrid')\n",
    "df['fuel type'] = df['fuel type'].replace('mev/diesel','hybrid')\n",
    "df['fuel type'] = df['fuel type'].replace('hev series pet','hybrid')\n",
    "df['fuel type'] = df['fuel type'].replace('hev/petr.unsp','hybrid')\n",
    "df['fuel type'] = df['fuel type'].replace('hev/dsl.unsp.','hybrid')\n",
    "# Plug-in Hybrid Electric Vehicle (PHEV)\n",
    "df['fuel type'] = df['fuel type'].replace('hev/dsl.plugin','phev')\n",
    "df['fuel type'] = df['fuel type'].replace('hev/petr.plugin','phev')\n",
    "df['fuel type'] = df['fuel type'].replace('electric w. rex','phev')\n",
    "# Battery Electric Vehicle (BEV)\n",
    "df['fuel type'] = df['fuel type'].replace('electric w/orex','bev')"
   ]
  },
  {
   "cell_type": "code",
   "execution_count": 54,
   "metadata": {},
   "outputs": [],
   "source": [
    "### 3. group the data by 'country', 'parent', 'brand', 'body group', 'fuel type'\n",
    "# Group the data\n",
    "df = df.groupby(['country','parent', 'brand', 'body group', 'fuel type']).agg({\n",
    "    'power': 'mean',      # for car characteristics, take the mean of different trims\n",
    "    'horsepower': 'mean',\n",
    "    'weight': 'mean', \n",
    "    'price_local': 'mean', \n",
    "    'price_eur':'mean',    \n",
    "    '2015': 'sum',\n",
    "    '2016' : 'sum',\n",
    "    '2017' : 'sum',\n",
    "    '2018' : 'sum',\n",
    "    '2019' : 'sum',\n",
    "    '2020' : 'sum',\n",
    "    '2021' : 'sum',\n",
    "    '2022' : 'sum',\n",
    "    '2023' : 'sum'   # for sales data, sum the sales across different trims\n",
    "}).round(2).copy()\n",
    "df = df.reset_index()   # Reset the index to make the groupby columns back to columns"
   ]
  },
  {
   "cell_type": "code",
   "execution_count": null,
   "metadata": {},
   "outputs": [],
   "source": [
    "### 4. only keep rows with 'body group' in ['car', 'suv', 'wagon', 'mpv', 'convertible'] and 'fuel type' in ['ICE', 'Hybrid', 'PHEV', 'BEV']\n",
    "df = df[df['body group'].isin(['car', 'suv', 'wagon', 'mpv', 'convertible'])]\n",
    "df = df[df['fuel type'].isin(['ice', 'hybrid', 'phev', 'bev'])]\n",
    "# one of the above selections reduce the unique parent number from 49 to 43! "
   ]
  },
  {
   "cell_type": "code",
   "execution_count": 23,
   "metadata": {},
   "outputs": [],
   "source": [
    "### 5. Modify parent name to be recognizable\n",
    "# load the second sheet of the excel file, \n",
    "dm  = pd.read_excel('/Users/simon/Library/CloudStorage/OneDrive-UniversityCollegeLondon/Cars data/Parent company.xlsx', sheet_name='Sales')\n",
    "# transform the values in 'make group' to lower case\n",
    "df['parent'] = df['parent'].str.lower()\n",
    "# replace the name of the column 'parent' in df by the 'modified name' in dm according to the 'original name' in dm\n",
    "df['parent'] = df['parent'].replace(dict(zip(dm['original name'], dm['modified name'])))"
   ]
  },
  {
   "cell_type": "code",
   "execution_count": 24,
   "metadata": {},
   "outputs": [],
   "source": [
    "### 6. Modify the brand name \n",
    "# rename the values in 'brand': 'Opel' to 'Opel-Vauxhall', 'Vauxhall' to 'Opel-Vauxhall'\n",
    "df['brand'] = df['brand'].replace('Opel', 'Opel-Vauxhall')\n",
    "df['brand'] = df['brand'].replace('Vauxhall', 'Opel-Vauxhall')"
   ]
  },
  {
   "cell_type": "markdown",
   "metadata": {},
   "source": [
    "Number of unique values in parent, brand, body group and fuel type:\n",
    "1) 43 parents\n",
    "2) 83 brands\n",
    "3) 5 body groups\n",
    "4) 4 fuel types\n",
    "3) 401 unique combinations of parent, brand, body type and fuel type"
   ]
  },
  {
   "cell_type": "code",
   "execution_count": null,
   "metadata": {},
   "outputs": [],
   "source": [
    "# save the aggregate sales data to a csv file\n",
    "df.to_csv('/Users/simon/Library/CloudStorage/OneDrive-UniversityCollegeLondon/Cars data/data/processed data/sales/2015_2023_sales_aggregate.csv', index=False)\n",
    "# load the aggregate sales data\n",
    "df = pd.read_csv('/Users/simon/Library/CloudStorage/OneDrive-UniversityCollegeLondon/Cars data/data/processed data/sales/2015_2023_sales_aggregate.csv', low_memory=False)"
   ]
  },
  {
   "cell_type": "code",
   "execution_count": null,
   "metadata": {},
   "outputs": [],
   "source": []
  }
 ],
 "metadata": {
  "kernelspec": {
   "display_name": "base",
   "language": "python",
   "name": "python3"
  },
  "language_info": {
   "codemirror_mode": {
    "name": "ipython",
    "version": 3
   },
   "file_extension": ".py",
   "mimetype": "text/x-python",
   "name": "python",
   "nbconvert_exporter": "python",
   "pygments_lexer": "ipython3",
   "version": "3.11.5"
  }
 },
 "nbformat": 4,
 "nbformat_minor": 2
}
